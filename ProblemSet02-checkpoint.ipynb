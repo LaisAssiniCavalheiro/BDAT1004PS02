{
 "cells": [
  {
   "cell_type": "markdown",
   "id": "91b80f56",
   "metadata": {
    "slideshow": {
     "slide_type": "slide"
    }
   },
   "source": [
    "<body>\n",
    "    <h1><font color='SlateBlue'><center>BDAT 1004 - Problem Set 2</center></font></h1>\n",
    "    <p>\n",
    "        <strong>Student:</strong> Lais Assini Cavalheiro<br>\n",
    "        <strong>Student ID:</strong> 20558473<br><br>\n",
    "    </p>\n",
    "</body>"
   ]
  },
  {
   "cell_type": "markdown",
   "id": "28fc2f9e",
   "metadata": {
    "slideshow": {
     "slide_type": "slide"
    }
   },
   "source": [
    "<body>\n",
    "    <h3><font color='SlateBlue'>Question 1</font></h3>\n",
    "    <p>Consider the following Python module:</p>\n",
    "<samp>\n",
    "    a = 0<br>        \n",
    "    def b():\n",
    "        global a\n",
    "        a = c(a)<br>        \n",
    "    def c(a):\n",
    "        return a + 2\n",
    "</samp>    \n",
    "    <p>After importing the module into the interpreter, you execute: </p>\n",
    "<samp>\n",
    "    >>> b()\n",
    "    >>> b() \n",
    "    >>> b() \n",
    "    >>> a \n",
    "    ? \n",
    "</samp>\n",
    "    <p>What value is displayed when the last expression <var>(a)</var> is evaluated? Explain your answer by indicating what happens in every executed statement. </p>\n",
    "\n",
    "</body>"
   ]
  },
  {
   "cell_type": "code",
   "execution_count": 96,
   "id": "8ef76d09",
   "metadata": {
    "slideshow": {
     "slide_type": "fragment"
    }
   },
   "outputs": [
    {
     "name": "stdout",
     "output_type": "stream",
     "text": [
      "6\n"
     ]
    }
   ],
   "source": [
    "#My answer (code = question 1)\n",
    "\n",
    "a = 0\n",
    "        \n",
    "def b():\n",
    "    global a   \n",
    "    a = c(a)    \n",
    "        \n",
    "def c(a):\n",
    "    return a + 2\n",
    "\n",
    "b() #a=2\n",
    "b() #a=4\n",
    "b() #a=6\n",
    "print(a)"
   ]
  },
  {
   "cell_type": "markdown",
   "id": "72853f71",
   "metadata": {
    "slideshow": {
     "slide_type": "fragment"
    }
   },
   "source": [
    "<body>\n",
    "    <p><font color='SlateBlue'><b>My answer (explanation - question 1)</b></font></p>\n",
    "<p>\n",
    "    The displayed value is 6.<br><br>\n",
    "    The function <var>b()</var> calls the global variable <var>a</var> and the another function called <var>c(a)</var> which means that whenever <var>b()</var> is used, <var>c(a)</var> will also be used, modifying the value of <var>a</var>.<br><br>\n",
    "    <em>Step by step:</em>\n",
    "</p>\n",
    "<ul>\n",
    "    <li>First <var>b()</var> => a=0; a=c(0); then 0+2=2 => a=2</li>\n",
    "    <li>Second <var>b()</var> => a=2; a=c(2); then 2+2=4 => a=4</li>\n",
    "    <li>Third <var>b()</var> => a=4; a=c(4); then 4+2=5 => a=6</li>\n",
    "    <li>At last but not least, we call the variable <var>a</var> which is 6 now, after all previous executed statement.</li>\n",
    "</ul>\n",
    "</body>\n"
   ]
  },
  {
   "cell_type": "markdown",
   "id": "29211177",
   "metadata": {
    "slideshow": {
     "slide_type": "slide"
    }
   },
   "source": [
    "<body>\n",
    "    <h3><font color='SlateBlue'>Question 2</font></h3>\n",
    "    <p>Function <var>fileLength()</var>, given to you, takes the name of a file as input and returns the length of the file: </p>\n",
    "<samp>\n",
    "    >>> fileLength('midterm.py') \n",
    "    284 \n",
    "    >>> fileLength('idterm.py') \n",
    "    Traceback (most recent call last):   \n",
    "        File \"< pyshell#34 >\", line 1, in < module >\n",
    "            fileLength('idterm.py')\n",
    "        File \"/Users/me/midterm.py\", line 3, in fileLength     \n",
    "            infile = open(filename) \n",
    "    FileNotFoundError: [Errno 2] No such file or directory: \n",
    "    'idterm.py' \n",
    "</samp>  \n",
    "    <p>As shown above, if the file cannot be found by the interpreter or if it cannot be read as a text file, an exception will be raised. Modify function fileLength() so that a friendly message is printed instead:</p>\n",
    "<samp>\n",
    "    >>> fileLength('midterm.py') \n",
    "    358 \n",
    "    >>> fileLength('idterm.py') \n",
    "    File idterm.py not found. \n",
    "</samp>\n",
    "\n",
    "\n",
    "</body>"
   ]
  },
  {
   "cell_type": "code",
   "execution_count": 97,
   "id": "f283e976",
   "metadata": {
    "slideshow": {
     "slide_type": "subslide"
    }
   },
   "outputs": [
    {
     "name": "stdout",
     "output_type": "stream",
     "text": [
      "123\n",
      "File Filelength.txt not found.\n"
     ]
    }
   ],
   "source": [
    "#My answer \n",
    "\n",
    "def fileLength(FileName):    \n",
    "    try:\n",
    "        infile = open(FileName)\n",
    "        file_open = infile.read()\n",
    "        print(len(file_open))\n",
    "        \n",
    "    except FileNotFoundError:\n",
    "        print(f\"File {FileName} not found.\")\n",
    "\n",
    "fileLength('Filelength(1).txt')\n",
    "fileLength('Filelength.txt')"
   ]
  },
  {
   "cell_type": "markdown",
   "id": "1d084f39",
   "metadata": {
    "slideshow": {
     "slide_type": "slide"
    }
   },
   "source": [
    "<body>\n",
    "    <h3><font color='SlateBlue'>Question 3</font></h3>\n",
    "    <p>Write a class named <var>Marsupial()</var> that can be used as shown below:</p>\n",
    "<samp>\n",
    "    >>> m = Marsupial() \n",
    "    >>> m.put_in_pouch('doll') \n",
    "    >>> m.put_in_pouch('firetruck') \n",
    "    >>> m.put_in_pouch('kitten') \n",
    "    >>> m.pouch_contents() \n",
    "    ['doll', 'firetruck', 'kitten'] \n",
    "</samp>  \n",
    "    <p>Now write a class named Kangaroo as a subclass of <var>Marsupial</var> that inherits all the attributes of <var>Marsupial</var> and also:</p>\n",
    "    <ol>\n",
    "        <li><em>extends</em> the <var>Marsupial __init__</var> constructor to take, as input, the coordinates x and y of the Kangaroo object,</li>\n",
    "        <li><em>supports</em> method <var>jump</var> that takes number values <var>dx</var> and <var>dy</var> as input and moves the kangaroo by <var>dx</var> units along the x-axis and by <var>dy</var> units along the yaxis, and</li>\n",
    "        <li><em>overloads</em> the <var>__str__</var> operator so it behaves as shown below.</li>\n",
    "    </ol>    \n",
    "<samp>\n",
    "    >>> k = Kangaroo(0,0) \n",
    "    >>> print(k) \n",
    "    I am a Kangaroo located at coordinates (0,0) \n",
    "    >>> k.put_in_pouch('doll') \n",
    "    >>> k.put_in_pouch('firetruck') \n",
    "    >>> k.put_in_pouch('kitten') \n",
    "    >>> k.pouch_contents() \n",
    "    ['doll', 'firetruck', 'kitten'] \n",
    "    >>> k.jump(1,0) \n",
    "    >>> k.jump(1,0) \n",
    "    >>> k.jump(1,0) \n",
    "    >>> print(k) \n",
    "    I am a Kangaroo located at coordinates (3,0)\n",
    "</samp>\n",
    "</body>"
   ]
  },
  {
   "cell_type": "code",
   "execution_count": 99,
   "id": "8ec19c65",
   "metadata": {
    "slideshow": {
     "slide_type": "subslide"
    }
   },
   "outputs": [
    {
     "name": "stdout",
     "output_type": "stream",
     "text": [
      "['doll', 'firetruck', 'kitten'] \n",
      "\n",
      "I am a Kangaroo located at coordinates (0, 0)\n",
      "\n",
      "['doll', 'firetruck', 'kitten'] \n",
      "\n",
      "I am a Kangaroo located at coordinates (3, 0)\n",
      "\n"
     ]
    }
   ],
   "source": [
    "#My answer\n",
    "\n",
    "class Marsupial:\n",
    "    \n",
    "    def __init__(self):     #the super method\n",
    "        self.pouch_contents = []\n",
    "\n",
    "    def put_in_pouch(self, item):\n",
    "        self.pouch_contents.append(item)\n",
    "        \n",
    "    def pouch_contents(self):\n",
    "        return self.pouch\n",
    "\n",
    "\n",
    "class Kangaroo(Marsupial):\n",
    "    \n",
    "    def __init__(self, x=0, y=0): #extending the super method\n",
    "        super().__init__()      #calling Super method\n",
    "        self.x = x\n",
    "        self.y = y\n",
    "       \n",
    "    def jump(self, dx, dy):\n",
    "        self.x += dx\n",
    "        self.y += dy\n",
    "    \n",
    "    def __str__(self):\n",
    "        return f\"I am a Kangaroo located at coordinates ({self.x}, {self.y})\\n\" \n",
    "\n",
    "m = Marsupial()\n",
    "m.put_in_pouch('doll')\n",
    "m.put_in_pouch('firetruck') \n",
    "m.put_in_pouch('kitten') \n",
    "print(m.pouch_contents,\"\\n\")\n",
    "\n",
    "k = Kangaroo(0, 0)\n",
    "print(k)\n",
    "\n",
    "k.put_in_pouch('doll')\n",
    "k.put_in_pouch('firetruck') \n",
    "k.put_in_pouch('kitten') \n",
    "print(k.pouch_contents,\"\\n\")  \n",
    "\n",
    "k.jump(1,0) \n",
    "k.jump(1,0) \n",
    "k.jump(1,0) \n",
    "print(k)"
   ]
  },
  {
   "cell_type": "markdown",
   "id": "b6d87c39",
   "metadata": {
    "slideshow": {
     "slide_type": "slide"
    }
   },
   "source": [
    "<body>\n",
    "    <h3><font color='SlateBlue'>Question 4</font></h3>\n",
    "    <p>Write function <var>collatz()</var> that takes a positive integer <var>x</var> as input and prints the Collatz sequence starting at <var>x</var>. A Collatz sequence is obtained by repeatedly applying this rule to the previous number x in the sequence: </p>\n",
    "<samp>\n",
    "    x = 𝑥/2       => 𝑖𝑓 𝑥 𝑖𝑠 𝑒𝑣𝑒𝑛 \n",
    "    x = 3𝑥+1      => 𝑖𝑓 𝑥 𝑖𝑠 𝑜𝑑𝑑\n",
    "</samp>  \n",
    "    <p>Your function should stop when the sequence gets to number 1. Your implementation must be recursive, without any loops. </p>    \n",
    "<samp>\n",
    "    >>> collatz(1) \n",
    "    1 \n",
    "    >>> collatz(10) \n",
    "    10 \n",
    "    5 \n",
    "    16 \n",
    "    8 \n",
    "    4 \n",
    "    2 \n",
    "    1\n",
    "</samp>\n",
    "</body>"
   ]
  },
  {
   "cell_type": "code",
   "execution_count": 21,
   "id": "b961a276",
   "metadata": {
    "slideshow": {
     "slide_type": "subslide"
    }
   },
   "outputs": [
    {
     "name": "stdout",
     "output_type": "stream",
     "text": [
      ">>> collatz(1)\n",
      "1\n",
      ">>> collatz(10)\n",
      "10\n",
      "5\n",
      "16\n",
      "8\n",
      "4\n",
      "2\n",
      "1\n"
     ]
    }
   ],
   "source": [
    "#My answer\n",
    "\n",
    "def collatz(x):\n",
    "    print(x)\n",
    "    while x!=1:\n",
    "        if(x % 2 == 0):\n",
    "            x = x/2            \n",
    "            print(int(x))\n",
    "        else:\n",
    "            x = 3*x+1\n",
    "            print(int(x))\n",
    "\n",
    "\n",
    "print(\">>> collatz(1)\")\n",
    "collatz(1)\n",
    "\n",
    "print(\">>> collatz(10)\")\n",
    "collatz(10)"
   ]
  },
  {
   "cell_type": "markdown",
   "id": "f544fcd0",
   "metadata": {
    "slideshow": {
     "slide_type": "slide"
    }
   },
   "source": [
    "<body>\n",
    "    <h3><font color='SlateBlue'>Question 5</font></h3>\n",
    "    <p>Write a recursive method <var>binary()</var> that takes a non-negative integer <var>n</var> and prints the binary representation of integer <var>n</var>.  </p>\n",
    "<samp>\n",
    "    >>> binary(0) \n",
    "    0 \n",
    "    >>> binary(1) \n",
    "    1 \n",
    "    >>> binary(3) \n",
    "    11 \n",
    "    >>> binary(9) \n",
    "    1001\n",
    "</samp>  \n",
    "\n",
    "</body>"
   ]
  },
  {
   "cell_type": "code",
   "execution_count": 25,
   "id": "bda34de2",
   "metadata": {
    "slideshow": {
     "slide_type": "subslide"
    }
   },
   "outputs": [
    {
     "name": "stdout",
     "output_type": "stream",
     "text": [
      ">>> binary(0)\n",
      "0\n",
      "\n",
      ">>> binary(1)\n",
      "1\n",
      "\n",
      ">>> binary(3)\n",
      "11\n",
      "\n",
      ">>> binary(9)\n",
      "1001"
     ]
    }
   ],
   "source": [
    "#My answer\n",
    "\n",
    "def binary(n):\n",
    "    if n < 2:\n",
    "        print(n, end='')\n",
    "    else:\n",
    "        binary(n//2)\n",
    "        print(n % 2, end='')\n",
    "\n",
    "print('>>> binary(0)')\n",
    "binary(0)\n",
    "\n",
    "print('\\n\\n>>> binary(1)')\n",
    "binary(1)\n",
    "\n",
    "print('\\n\\n>>> binary(3)')\n",
    "binary(3)\n",
    "\n",
    "print('\\n\\n>>> binary(9)')\n",
    "binary(9)"
   ]
  },
  {
   "cell_type": "markdown",
   "id": "05979fd6",
   "metadata": {
    "slideshow": {
     "slide_type": "slide"
    }
   },
   "source": [
    "<body>\n",
    "    <h3><font color='SlateBlue'>Question 8</font></h3>\n",
    "    <p>Write SQL queries on the below database table that return:</p>  \n",
    "    <ol>\n",
    "        <li>All the temperature data.</li>\n",
    "        <li>All the cities, but without repetition.</li>\n",
    "        <li>All the records for India.</li>\n",
    "        <li>All the Fall records. </li>\n",
    "        <li>The city, country, and season for which the average rainfall is between 200 and 400 millimeters.</li>\n",
    "        <li>The city and country for which the average Fall temperature is above 20 degrees, in increasing temperature order.</li>\n",
    "        <li>The total annual rainfall for Cairo.</li>\n",
    "        <li>The total rainfall for each season.</li>\n",
    "    </ol>\n",
    "\n",
    "<img src=\"table_exe8.png\" width=\"450\" height=\"550\">\n",
    "</body>\n",
    "\n"
   ]
  },
  {
   "cell_type": "code",
   "execution_count": 79,
   "id": "3c7be6c6",
   "metadata": {
    "slideshow": {
     "slide_type": "fragment"
    }
   },
   "outputs": [
    {
     "name": "stdout",
     "output_type": "stream",
     "text": [
      "('Mumbai', 'India', 'Winter', 24.8, 5.9)\n",
      "('Mumbai', 'India', 'Spring', 28.4, 16.2)\n",
      "('Mumbai', 'India', 'Summer', 27.9, 1549.4)\n",
      "('Mumbai', 'India', 'Fall', 27.6, 346.0)\n",
      "('London', 'United Kingdom', 'Winter', 4.2, 207.7)\n",
      "('London', 'United Kingdom', 'Spring', 8.3, 169.6)\n",
      "('London', 'United Kingdom', 'Summer', 15.7, 157.0)\n",
      "('London', 'United Kingdom', 'Fall', 10.4, 218.5)\n",
      "('Cairo', 'Egypt', 'Winter', 13.6, 16.5)\n",
      "('Cairo', 'Egypt', 'Spring', 20.7, 6.5)\n",
      "('Cairo', 'Egypt', 'Summer', 27.7, 0.1)\n",
      "('Cairo', 'Egypt', 'Fall', 22.2, 4.5)\n"
     ]
    }
   ],
   "source": [
    "#My answer (ENTIRE TABLE)\n",
    "\n",
    "import sqlite3\n",
    "\n",
    "connection = sqlite3.connect('table_cities.db')\n",
    "cursor = connection.cursor()\n",
    "connection = cursor.execute(\"CREATE TABLE Keywords (City text, Country text, Season text, Temperature float, Rainfall float)\")\n",
    "\n",
    "rows = [('Mumbai', 'India', 'Winter', 24.8, 5.9), ('Mumbai', 'India', 'Spring', 28.4, 16.2), ('Mumbai', 'India', 'Summer', 27.9, 1549.4), ('Mumbai', 'India','Fall', 27.6, 346.0), ('London', 'United Kingdom', 'Winter', 4.2, 207.7), ('London', 'United Kingdom', 'Spring', 8.3, 169.6), ('London', 'United Kingdom', 'Summer', 15.7, 157.0), ('London', 'United Kingdom', 'Fall', 10.4,218.5), ('Cairo', 'Egypt', 'Winter', 13.6, 16.5), ('Cairo', 'Egypt', 'Spring', 20.7,6.5), ('Cairo', 'Egypt', 'Summer', 27.7,0.1), ('Cairo', 'Egypt','Fall', 22.2,4.5)]\n",
    "\n",
    "for row in rows:\n",
    "    cursor.execute(\"INSERT INTO Keywords VALUES (?, ?, ?, ?, ?)\", (row[0], row[1], row[2], row[3], row[4]))\n",
    "    print(row)\n",
    "   \n",
    "\n"
   ]
  },
  {
   "cell_type": "code",
   "execution_count": 80,
   "id": "e1d8e85f",
   "metadata": {
    "slideshow": {
     "slide_type": "fragment"
    }
   },
   "outputs": [
    {
     "name": "stdout",
     "output_type": "stream",
     "text": [
      "(24.8,)\n",
      "(28.4,)\n",
      "(27.9,)\n",
      "(27.6,)\n",
      "(4.2,)\n",
      "(8.3,)\n",
      "(15.7,)\n",
      "(10.4,)\n",
      "(13.6,)\n",
      "(20.7,)\n",
      "(27.7,)\n",
      "(22.2,)\n"
     ]
    }
   ],
   "source": [
    "#My answer (All the temperature data)\n",
    "\n",
    "cursor.execute('SELECT Temperature FROM Keywords')\n",
    "\n",
    "for temp in cursor:\n",
    "    print(temp)\n",
    "    \n"
   ]
  },
  {
   "cell_type": "code",
   "execution_count": 81,
   "id": "918af985",
   "metadata": {
    "slideshow": {
     "slide_type": "fragment"
    }
   },
   "outputs": [
    {
     "name": "stdout",
     "output_type": "stream",
     "text": [
      "('Mumbai',)\n",
      "('London',)\n",
      "('Cairo',)\n"
     ]
    }
   ],
   "source": [
    "#My answer (All the cities, but without repetition)\n",
    "\n",
    "cursor.execute('SELECT City FROM Keywords')\n",
    "\n",
    "tempTable = []\n",
    "\n",
    "for city in cursor:\n",
    "    if city in tempTable:\n",
    "        continue\n",
    "    else:\n",
    "        tempTable.append(city)\n",
    "    print(city)"
   ]
  },
  {
   "cell_type": "code",
   "execution_count": 82,
   "id": "b05cb5d4",
   "metadata": {
    "slideshow": {
     "slide_type": "fragment"
    }
   },
   "outputs": [
    {
     "name": "stdout",
     "output_type": "stream",
     "text": [
      "('Mumbai', 'India', 'Winter', 24.8, 5.9)\n",
      "('Mumbai', 'India', 'Spring', 28.4, 16.2)\n",
      "('Mumbai', 'India', 'Summer', 27.9, 1549.4)\n",
      "('Mumbai', 'India', 'Fall', 27.6, 346.0)\n"
     ]
    }
   ],
   "source": [
    "#My answer (All the records for India)\n",
    "\n",
    "word = 'India'\n",
    "cursor.execute('SELECT * FROM Keywords WHERE Country = ?', (word,))\n",
    "result = cursor.fetchall()\n",
    "\n",
    "for x in result:\n",
    "      print(x)"
   ]
  },
  {
   "cell_type": "code",
   "execution_count": 83,
   "id": "81df68ab",
   "metadata": {
    "slideshow": {
     "slide_type": "fragment"
    }
   },
   "outputs": [
    {
     "name": "stdout",
     "output_type": "stream",
     "text": [
      "('Mumbai', 'India', 'Fall', 27.6, 346.0)\n",
      "('London', 'United Kingdom', 'Fall', 10.4, 218.5)\n",
      "('Cairo', 'Egypt', 'Fall', 22.2, 4.5)\n"
     ]
    }
   ],
   "source": [
    "#My answer (All the Fall records)\n",
    "\n",
    "word = 'Fall'\n",
    "cursor.execute('SELECT * FROM Keywords WHERE Season = ?', (word,))\n",
    "result = cursor.fetchall()\n",
    "\n",
    "for x in result:\n",
    "      print(x)"
   ]
  },
  {
   "cell_type": "code",
   "execution_count": 84,
   "id": "1e5a0760",
   "metadata": {
    "slideshow": {
     "slide_type": "fragment"
    }
   },
   "outputs": [
    {
     "name": "stdout",
     "output_type": "stream",
     "text": [
      "('Mumbai', 'India', 'Fall')\n",
      "('London', 'United Kingdom', 'Winter')\n",
      "('London', 'United Kingdom', 'Fall')\n"
     ]
    }
   ],
   "source": [
    "#My answer (The city, country, and season for which the average rainfall is between 200 and 400 millimeters)\n",
    "\n",
    "cursor.execute('SELECT City, Country, Season FROM Keywords WHERE Rainfall > 200 AND Rainfall < 400')\n",
    "result = cursor.fetchall()\n",
    "\n",
    "for x in result:\n",
    "      print(x)"
   ]
  },
  {
   "cell_type": "code",
   "execution_count": 85,
   "id": "683e4dbc",
   "metadata": {
    "slideshow": {
     "slide_type": "fragment"
    }
   },
   "outputs": [
    {
     "name": "stdout",
     "output_type": "stream",
     "text": [
      "('Cairo', 'Egypt')\n",
      "('Mumbai', 'India')\n"
     ]
    }
   ],
   "source": [
    "#My answer (The city and country for which the average Fall temperature is above 20 degrees, in increasing temperature order)\n",
    "\n",
    "word = 'Fall'\n",
    "cursor.execute('SELECT City, Country FROM Keywords WHERE Season = ? AND Temperature > 20 ORDER BY Temperature', (word, ))\n",
    "result = cursor.fetchall()\n",
    "\n",
    "for x in result:    \n",
    "      print(x)"
   ]
  },
  {
   "cell_type": "code",
   "execution_count": 92,
   "id": "94d2f48a",
   "metadata": {
    "slideshow": {
     "slide_type": "fragment"
    }
   },
   "outputs": [
    {
     "name": "stdout",
     "output_type": "stream",
     "text": [
      "The total annual rainfall for Cairo is [(27.6,)]\n"
     ]
    }
   ],
   "source": [
    "#My answer (The total annual rainfall for Cairo)\n",
    "\n",
    "word = 'Cairo'\n",
    "cursor.execute('SELECT SUM(Rainfall) FROM Keywords WHERE City = ?', (word, ))\n",
    "print(f'The total annual rainfall for Cairo is {cursor.fetchall()}') \n"
   ]
  },
  {
   "cell_type": "code",
   "execution_count": 90,
   "id": "3490f452",
   "metadata": {
    "slideshow": {
     "slide_type": "fragment"
    }
   },
   "outputs": [
    {
     "name": "stdout",
     "output_type": "stream",
     "text": [
      "The total rainfall for Fall is [(569.0,)]\n",
      "The total rainfall for Winter is [(230.1,)]\n",
      "The total rainfall for Spring is [(192.29999999999998,)]\n",
      "The total rainfall for Summer is [(1706.5,)]\n"
     ]
    }
   ],
   "source": [
    "#My answer (The total rainfall for each season)\n",
    "\n",
    "word1 = 'Fall'\n",
    "word2 = 'Winter'\n",
    "word3 = 'Spring'\n",
    "word4 = 'Summer'\n",
    "\n",
    "cursor.execute('SELECT SUM(Rainfall) FROM Keywords WHERE Season = ?', (word1, ))\n",
    "print(f'The total rainfall for {word1} is {cursor.fetchall()}')\n",
    "        \n",
    "cursor.execute('SELECT SUM(Rainfall) FROM Keywords WHERE Season = ?', (word2, ))\n",
    "print(f'The total rainfall for {word2} is {cursor.fetchall()}')\n",
    "        \n",
    "cursor.execute('SELECT SUM(Rainfall) FROM Keywords WHERE Season = ?', (word3, ))\n",
    "print(f'The total rainfall for {word3} is {cursor.fetchall()}')\n",
    "        \n",
    "cursor.execute('SELECT SUM(Rainfall) FROM Keywords WHERE Season = ?', (word4, ))\n",
    "print(f'The total rainfall for {word4} is {cursor.fetchall()}')\n"
   ]
  },
  {
   "cell_type": "markdown",
   "id": "52c57a34",
   "metadata": {
    "slideshow": {
     "slide_type": "fragment"
    }
   },
   "source": [
    "<body>\n",
    "    <h3><font color='SlateBlue'>Question 9</font></h3>\n",
    "    <p> Suppose list words is defined as follows:</p>\n",
    "<samp>>>> words = ['The', 'quick', 'brown', 'fox', 'jumps', 'over', 'the', 'lazy', 'dog']</samp>  \n",
    "    <p> Write list comprehension expressions that use list words and generate the following lists:</p>\n",
    "    <ol>\n",
    "        <li><samp>['THE', 'QUICK', 'BROWN', 'FOX', 'JUMPS', 'OVER', 'THE', 'LAZY', 'DOG']</samp></li>\n",
    "        <li><samp>['the', 'quick', 'brown', 'fox', 'jumps', 'over', 'the', 'lazy', 'dog']</samp></li>\n",
    "        <li><samp>[3, 5, 5, 3, 5, 4, 3, 4, 3]</samp> (the list of lengths of words in list words)</li>\n",
    "        <li><samp>[['THE', 'the', 3], ['QUICK', 'quick', 5], ['BROWN', 'brown', 5], ['FOX', 'fox', 3], ['JUMPS', 'jumps', 5], ['OVER', 'over', 4], ['THE', 'the', 3], ['LAZY', 'lazy', 4], ['DOG', 'dog', 3]]</samp> (the list containing a list for every word of list words, where each list contains the word in uppercase and lowercase and the length of the word.)</li>\n",
    "        <li><samp>['The', 'quick', 'brown', 'fox', 'jumps', 'over', 'the', 'lazy', 'dog']</samp> (the list of words in list words containing 4 or more characters.) </li>           \n",
    "    </ol>\n",
    "</body>"
   ]
  },
  {
   "cell_type": "code",
   "execution_count": 32,
   "id": "184775a1",
   "metadata": {
    "slideshow": {
     "slide_type": "subslide"
    }
   },
   "outputs": [
    {
     "name": "stdout",
     "output_type": "stream",
     "text": [
      "Upper:\n",
      " ['THE', 'QUICK', 'BROWN', 'FOX', 'JUMPS', 'OVER', 'THE', 'LAZY', 'DOG']\n",
      "\n",
      "Lower:\n",
      " ['the', 'quick', 'brown', 'fox', 'jumps', 'over', 'the', 'lazy', 'dog']\n",
      "\n",
      "Length:\n",
      " [3, 5, 5, 3, 5, 4, 3, 4, 3]\n",
      "\n",
      "Upper, lower, length:\n",
      " [['THE', 'the', 3], ['QUICK', 'quick', 5], ['BROWN', 'brown', 5], ['FOX', 'fox', 3], ['JUMPS', 'jumps', 5], ['OVER', 'over', 4], ['THE', 'the', 3], ['LAZY', 'lazy', 4], ['DOG', 'dog', 3]]\n",
      "\n",
      "Words which length is equal or greater 4;\n",
      " ['quick', 'brown', 'jumps', 'over', 'lazy']\n"
     ]
    }
   ],
   "source": [
    "#My answer\n",
    "\n",
    "words = ['The', 'quick', 'brown', 'fox', 'jumps', 'over', 'the', 'lazy', 'dog']\n",
    "\n",
    "WordsUpper = [word.upper() for word in words]\n",
    "print('Upper:\\n',WordsUpper)\n",
    "\n",
    "WordsLower = [word.lower() for word in words]\n",
    "print('\\nLower:\\n',WordsLower)\n",
    "\n",
    "WordsLen = [len(word) for word in words]\n",
    "print('\\nLength:\\n',WordsLen)\n",
    "\n",
    "WordsMix = [[word.upper(), word.lower(), len(word)] for word in words]\n",
    "print('\\nUpper, lower, length:\\n',WordsMix)\n",
    "\n",
    "Words4 = [word for word in words if len(word)>=4]\n",
    "print('\\nWords which length is equal or greater 4;\\n',Words4)"
   ]
  },
  {
   "cell_type": "code",
   "execution_count": null,
   "id": "5f3614c1",
   "metadata": {},
   "outputs": [],
   "source": []
  }
 ],
 "metadata": {
  "celltoolbar": "Slideshow",
  "kernelspec": {
   "display_name": "Python 3 (ipykernel)",
   "language": "python",
   "name": "python3"
  },
  "language_info": {
   "codemirror_mode": {
    "name": "ipython",
    "version": 3
   },
   "file_extension": ".py",
   "mimetype": "text/x-python",
   "name": "python",
   "nbconvert_exporter": "python",
   "pygments_lexer": "ipython3",
   "version": "3.10.9"
  }
 },
 "nbformat": 4,
 "nbformat_minor": 5
}
